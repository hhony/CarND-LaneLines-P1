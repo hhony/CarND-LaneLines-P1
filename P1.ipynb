{
 "cells": [
  {
   "cell_type": "markdown",
   "metadata": {},
   "source": [
    "# Self-Driving Car Engineer Nanodegree\n",
    "\n",
    "\n",
    "## Project: **Finding Lane Lines on the Road** \n",
    "***\n",
    "The left and right lanes are anontated using a crude alogorithm for linear interpolation, as implemented in the `land_detect` module.\n",
    "\n",
    "The [write up](https://github.com/udacity/CarND-LaneLines-P1/blob/master/writeup.md) identifies some potential short-comings of the implemented algorithm.\n",
    "\n"
   ]
  },
  {
   "cell_type": "markdown",
   "metadata": {},
   "source": [
    "## Testing Pipeline on Images\n",
    "\n",
    "The pipeline was design around the files in [test_images folder]((https://github.com/udacity/CarND-LaneLines-P1/blob/master/test_images)."
   ]
  },
  {
   "cell_type": "code",
   "execution_count": null,
   "metadata": {
    "collapsed": true
   },
   "outputs": [],
   "source": [
    "from lane_detect import LaneFilter, show_image\n",
    "from pathlib import Path\n",
    "_dir = Path('test_images')\n",
    "_files = [_file for _file in _dir.iterdir()]"
   ]
  },
  {
   "cell_type": "markdown",
   "metadata": {},
   "source": [
    "## The Lane Finding Pipeline\n",
    "\n",
    "```sh\n",
    "$ ./test-lane-detect --help\n",
    "usage: test-lane-detect [-h] [-d] [--show-pipeline] [--show-lines]\n",
    "                        [--save-images]\n",
    "\n",
    "utility for testing lane_detect module\n",
    "\n",
    "optional arguments:\n",
    "  -h, --help            show this help message and exit\n",
    "  -d, --debug, --debug-mode, --dev, --dev-mode\n",
    "                        enables debug logging.\n",
    "  --show-pipeline       show all pipeline stages\n",
    "  --show-lines          show hough lines stages\n",
    "  --save-images         saves images to output directory\n",
    "```"
   ]
  },
  {
   "cell_type": "code",
   "execution_count": null,
   "metadata": {
    "collapsed": true,
    "scrolled": true
   },
   "outputs": [],
   "source": [
    "CANNY_LOWER_BOUND = 50\n",
    "CANNY_UPPER_BOUND = 150\n",
    "HOUGH_RHO         = 2\n",
    "HOUGH_THRESH      = 15\n",
    "HOUGH_LINE_LEN    = 40\n",
    "HOUGH_LINE_GAP    = 10\n",
    "\n",
    "for _file in _files:\n",
    "    filter = LaneFilter(filename=str(_file))\n",
    "    show_image(filter.image, gray=True)\n",
    "    filter.gaussian_blur()\n",
    "    filter.canny_edges(CANNY_LOWER_BOUND, CANNY_UPPER_BOUND)\n",
    "    filter.hough_lines(rho=HOUGH_RHO, threshold=HOUGH_THRESH,\n",
    "                       min_line_len=HOUGH_LINE_LEN, max_line_gap=HOUGH_LINE_GAP,\n",
    "                       with_lines=True)\n",
    "    filter.apply_roi_mask()\n",
    "    filter.weighted_image()\n",
    "    show_image(filter.lane)\n"
   ]
  },
  {
   "cell_type": "markdown",
   "metadata": {},
   "source": [
    "## Testing Pipeline on Videos\n",
    "\n",
    "```sh\n",
    "$ ./video-lane-detect\n",
    "```\n",
    "\n",
    "Above script is my personal preference..\n"
   ]
  },
  {
   "cell_type": "code",
   "execution_count": null,
   "metadata": {
    "collapsed": true
   },
   "outputs": [],
   "source": [
    "from moviepy.editor import VideoFileClip\n",
    "from IPython.display import HTML\n",
    "from lane_detect import LaneFilter\n",
    "from os import makedirs\n",
    "from os.path import isdir\n",
    "\n",
    "output_dir = 'test_videos_output'\n",
    "if not isdir(output_dir):\n",
    "    makedirs(output_dir)"
   ]
  },
  {
   "cell_type": "code",
   "execution_count": null,
   "metadata": {
    "collapsed": true
   },
   "outputs": [],
   "source": [
    "CANNY_LOWER_BOUND = 50\n",
    "CANNY_UPPER_BOUND = 150\n",
    "HOUGH_RHO         = 2\n",
    "HOUGH_THRESH      = 15\n",
    "HOUGH_LINE_LEN    = 40\n",
    "HOUGH_LINE_GAP    = 10\n",
    "\n",
    "def process_image(image):\n",
    "    global CANNY_LOWER_BOUND, CANNY_UPPER_BOUND\n",
    "    global HOUGH_RHO, HOUGH_THRESH, HOUGH_LINE_LEN, HOUGH_LINE_GAP\n",
    "    filter = LaneFilter(image=image)\n",
    "    filter.gaussian_blur()\n",
    "    filter.canny_edges(CANNY_LOWER_BOUND, CANNY_UPPER_BOUND)\n",
    "    filter.hough_lines(rho=HOUGH_RHO, threshold=HOUGH_THRESH,\n",
    "                       min_line_len=HOUGH_LINE_LEN, max_line_gap=HOUGH_LINE_GAP,\n",
    "                       with_lines=True)\n",
    "    filter.apply_roi_mask()\n",
    "    filter.weighted_image()\n",
    "    return filter.lane"
   ]
  },
  {
   "cell_type": "markdown",
   "metadata": {},
   "source": [
    "#### Solid White Right"
   ]
  },
  {
   "cell_type": "code",
   "execution_count": null,
   "metadata": {},
   "outputs": [],
   "source": [
    "white_output = '{0}/solidWhiteRight.mp4'.format(output_dir)"
   ]
  },
  {
   "cell_type": "code",
   "execution_count": null,
   "metadata": {
    "collapsed": true
   },
   "outputs": [],
   "source": [
    "clip1 = VideoFileClip(\"test_videos/solidWhiteRight.mp4\")\n",
    "white_clip = clip1.fl_image(process_image)\n",
    "%time white_clip.write_videofile(white_output, audio=False)"
   ]
  },
  {
   "cell_type": "markdown",
   "metadata": {},
   "source": [
    "It is not quite as confident as I would like, on the left"
   ]
  },
  {
   "cell_type": "code",
   "execution_count": null,
   "metadata": {},
   "outputs": [],
   "source": [
    "HTML(\"\"\"\n",
    "<video width=\"960\" height=\"540\" controls>\n",
    "  <source src=\"{0}\">\n",
    "</video>\n",
    "\"\"\".format(white_output))"
   ]
  },
  {
   "cell_type": "markdown",
   "metadata": {},
   "source": [
    "#### Solid Yellow Left"
   ]
  },
  {
   "cell_type": "code",
   "execution_count": null,
   "metadata": {
    "collapsed": true
   },
   "outputs": [],
   "source": [
    "yellow_output = '{0}/solidYellowLeft.mp4'format(output_dir)"
   ]
  },
  {
   "cell_type": "code",
   "execution_count": null,
   "metadata": {
    "collapsed": true
   },
   "outputs": [],
   "source": [
    "clip1 = VideoFileClip(\"test_videos/solidYellowLeft.mp4\")\n",
    "yellow_clip = clip1.fl_image(process_image)\n",
    "%time yellow_clip.write_videofile(yellow_output, audio=False)"
   ]
  },
  {
   "cell_type": "markdown",
   "metadata": {},
   "source": [
    "It is not quite as confident as I would like, again on the right"
   ]
  },
  {
   "cell_type": "code",
   "execution_count": null,
   "metadata": {},
   "outputs": [],
   "source": [
    "HTML(\"\"\"\n",
    "<video width=\"960\" height=\"540\" controls>\n",
    "  <source src=\"{0}\">\n",
    "</video>\n",
    "\"\"\".format(yellow_output))"
   ]
  },
  {
   "cell_type": "markdown",
   "metadata": {
    "collapsed": true
   },
   "source": [
    "#### Optional Challenge\n",
    "\n",
    "Try your lane finding pipeline on the video below.\n",
    "\n",
    "Does it still work?\n",
    "\n",
    "-- No\n",
    "\n",
    "Can you figure out a way to make it more robust?\n",
    "\n",
    "-- Yes, instead of interpolating all the line segments into one solid line, it would be better to either:\n",
    " * Use piecewise functions to interpolate\n",
    " * Interpolate using sin or cos, to better approximate any line\n",
    " * Dynamic range between frames should be weighted, and shadows are not helpful\n",
    " "
   ]
  },
  {
   "cell_type": "code",
   "execution_count": null,
   "metadata": {
    "collapsed": true
   },
   "outputs": [],
   "source": [
    "challenge_output = '{0}/challenge.mp4'.format(output_dir)"
   ]
  },
  {
   "cell_type": "code",
   "execution_count": null,
   "metadata": {
    "collapsed": true
   },
   "outputs": [],
   "source": [
    "clip1 = VideoFileClip(\"test_videos/challenge.mp4\")\n",
    "challenge_clip = clip1.fl_image(process_image)\n",
    "%time yellow_clip.write_videofile(challenge_output, audio=False)"
   ]
  },
  {
   "cell_type": "code",
   "execution_count": null,
   "metadata": {},
   "outputs": [],
   "source": [
    "HTML(\"\"\"\n",
    "<video width=\"960\" height=\"540\" controls>\n",
    "  <source src=\"{0}\">\n",
    "</video>\n",
    "\"\"\".format(challenge_output))"
   ]
  }
 ],
 "metadata": {
  "anaconda-cloud": {},
  "kernelspec": {
   "display_name": "Python 3",
   "language": "python",
   "name": "python3"
  },
  "language_info": {
   "codemirror_mode": {
    "name": "ipython",
    "version": 3
   },
   "file_extension": ".py",
   "mimetype": "text/x-python",
   "name": "python",
   "nbconvert_exporter": "python",
   "pygments_lexer": "ipython3",
   "version": "3.5.2"
  },
  "widgets": {
   "state": {},
   "version": "1.1.2"
  }
 },
 "nbformat": 4,
 "nbformat_minor": 1
}
